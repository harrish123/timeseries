{
 "cells": [
  {
   "cell_type": "code",
   "execution_count": 2,
   "metadata": {},
   "outputs": [
    {
     "name": "stdout",
     "output_type": "stream",
     "text": [
      "         # Date  Receipt_Count\n",
      "0    2021-01-01        7564766\n",
      "1    2021-01-02        7455524\n",
      "2    2021-01-03        7095414\n",
      "3    2021-01-04        7666163\n",
      "4    2021-01-05        7771289\n",
      "..          ...            ...\n",
      "360  2021-12-27       10350408\n",
      "361  2021-12-28       10219445\n",
      "362  2021-12-29       10313337\n",
      "363  2021-12-30       10310644\n",
      "364  2021-12-31       10211187\n",
      "\n",
      "[365 rows x 2 columns]\n"
     ]
    }
   ],
   "source": [
    "import torch\n",
    "import torch.nn as nn\n",
    "import matplotlib.pyplot as plt\n",
    "import numpy as np\n",
    "import pandas as pd\n",
    "\n",
    "data = pd.read_csv(\"data_daily.csv\")\n",
    "print(data)\n",
    "device = \"cuda\" if torch.cuda.is_available() else \"cpu\"\n",
    "\n",
    "data = data[\"Receipt_Count\"].values.astype(float)\n",
    "\n",
    "\n"
   ]
  },
  {
   "cell_type": "code",
   "execution_count": 3,
   "metadata": {},
   "outputs": [],
   "source": [
    "def normalize(data):\n",
    "    data_min = np.min(data)\n",
    "    data_max = np.max(data)\n",
    "    return (data - data_min) / (data_max - data_min + 1e-7), data_min, data_max\n",
    "\n",
    "def denormalize(data, data_min, data_max):\n",
    "    return data * (data_max - data_min + 1e-7) + data_min\n",
    "\n",
    "normalized_data, data_min, data_max = normalize(data)"
   ]
  },
  {
   "cell_type": "code",
   "execution_count": 4,
   "metadata": {},
   "outputs": [],
   "source": [
    "def create_sequence(data, seq_length):\n",
    "    xs = []\n",
    "    ys = []\n",
    "    for i in range(len(data) - seq_length):\n",
    "        x = data[i: i+seq_length]\n",
    "        y = data[i+seq_length]\n",
    "        xs.append(x)\n",
    "        ys.append(y)\n",
    "    return np.array(xs), np.array(ys)\n",
    "X, y = create_sequence(normalized_data, 12)\n",
    "train_size = int(len(X) * 0.9)\n",
    "X_train, y_train = X[:train_size], y[:train_size]\n",
    "X_val, y_val = X[train_size:], y[train_size:]\n",
    "\n",
    "X_train = torch.tensor(X_train, dtype=torch.float32).to(device=device)\n",
    "y_train = torch.tensor(y_train, dtype=torch.float32).to(device=device)\n",
    "X_val = torch.tensor(X_val, dtype=torch.float32).to(device=device)\n",
    "y_val = torch.tensor(y_val, dtype=torch.float32).to(device=device)"
   ]
  },
  {
   "cell_type": "code",
   "execution_count": 5,
   "metadata": {},
   "outputs": [],
   "source": [
    "class LSTMModel(nn.Module):\n",
    "    def __init__(self, input_size = 1, hidden_layer_size=64, output_size=1):\n",
    "        super(LSTMModel, self).__init__()\n",
    "        self.hidden_layer_size = hidden_layer_size\n",
    "        self.lstm = nn.LSTM(input_size, hidden_layer_size)\n",
    "        self.linear = nn.Linear(hidden_layer_size, output_size)\n",
    "        self.hidden_cell = (torch.zeros(1,1,self.hidden_layer_size),\n",
    "                            torch.zeros(1,1,self.hidden_layer_size))\n",
    "    \n",
    "    def forward(self, input_seq):\n",
    "        lstm_out, self.hidden_cell = self.lstm(input_seq.view(len(input_seq),1,-1), self.hidden_cell)\n",
    "        predictions = self.linear(lstm_out.view(len(input_seq), -1))\n",
    "        return predictions[-1]\n"
   ]
  },
  {
   "cell_type": "code",
   "execution_count": 6,
   "metadata": {},
   "outputs": [
    {
     "name": "stdout",
     "output_type": "stream",
     "text": [
      "Epoch 5 | Train Loss: 0.0036417844239622355 | Validation Loss: 0.005662160753925289\n",
      "Epoch 10 | Train Loss: 0.003926885314285755 | Validation Loss: 0.005795285243518972\n",
      "Epoch 15 | Train Loss: 0.003868685569614172 | Validation Loss: 0.005831807541663163\n",
      "Epoch 20 | Train Loss: 0.00381848169490695 | Validation Loss: 0.005816892940517151\n",
      "Epoch 25 | Train Loss: 0.003769652219489217 | Validation Loss: 0.0057950442576135686\n",
      "Epoch 30 | Train Loss: 0.003720271633937955 | Validation Loss: 0.005774424047015497\n",
      "Epoch 35 | Train Loss: 0.003668746678158641 | Validation Loss: 0.005755784050311124\n",
      "Epoch 40 | Train Loss: 0.0036162191536277533 | Validation Loss: 0.005739024525636991\n",
      "Epoch 45 | Train Loss: 0.003565635997802019 | Validation Loss: 0.005724228587452116\n",
      "Epoch 50 | Train Loss: 0.0035187317989766598 | Validation Loss: 0.0057114705905942425\n"
     ]
    }
   ],
   "source": [
    "# model = LSTMModel().to(device=device)\n",
    "# loss_function = nn.MSELoss()\n",
    "# optimizer = torch.optim.Adam(model.parameters(), lr=0.0001)\n",
    "# epochs=20\n",
    "\n",
    "# y_train = y_train.view(-1, 1)\n",
    "# for epoch in range(1, epochs+1):\n",
    "#     for seq, label in zip(X_train, y_train):\n",
    "\n",
    "#         seq=seq.to(device=device)\n",
    "#         label = label.to(device=device)\n",
    "\n",
    "#         optimizer.zero_grad()\n",
    "#         model.hidden_cell = (torch.zeros(1,1,model.hidden_layer_size).to(device),\n",
    "#                              torch.zeros(1,1,model.hidden_layer_size).to(device))\n",
    "#         y_pred = model(seq)\n",
    "\n",
    "#         y_pred = y_pred.view(-1)\n",
    "\n",
    "#         loss = loss_function(y_pred, label)\n",
    "\n",
    "#         loss.backward()\n",
    "#         optimizer.step()\n",
    "#     if epoch % 5 == 0:\n",
    "#         print(f'Epoch {epoch} Loss: {loss.item()}')\n",
    "\n",
    "model = LSTMModel().to(device=device)\n",
    "loss_function = nn.MSELoss()\n",
    "optimizer = torch.optim.Adam(model.parameters(), lr=0.0001)\n",
    "\n",
    "# Train the model with training set and validate on validation set\n",
    "epochs = 50\n",
    "y_train = y_train.view(-1, 1)\n",
    "y_val = y_val.view(-1, 1)\n",
    "\n",
    "for epoch in range(1, epochs + 1):\n",
    "    model.train()  # Training mode\n",
    "    for seq, label in zip(X_train, y_train):\n",
    "        seq, label = seq.to(device=device), label.to(device=device)\n",
    "        optimizer.zero_grad()\n",
    "        model.hidden_cell = (torch.zeros(1, 1, model.hidden_layer_size).to(device),\n",
    "                             torch.zeros(1, 1, model.hidden_layer_size).to(device))\n",
    "        y_pred = model(seq)\n",
    "        y_pred = y_pred.view(-1)\n",
    "        loss = loss_function(y_pred, label)\n",
    "        loss.backward()\n",
    "        optimizer.step()\n",
    "\n",
    "    # Validation at each epoch\n",
    "    if epoch % 5 == 0:\n",
    "        model.eval()  # Evaluation mode\n",
    "        val_loss = 0\n",
    "        with torch.inference_mode():\n",
    "            for seq, label in zip(X_val, y_val):\n",
    "                model.hidden_cell = (torch.zeros(1, 1, model.hidden_layer_size).to(device),\n",
    "                                     torch.zeros(1, 1, model.hidden_layer_size).to(device))\n",
    "                y_pred = model(seq)\n",
    "                val_loss += loss_function(y_pred.view(-1), label).item()\n",
    "        print(f'Epoch {epoch} | Train Loss: {loss.item()} | Validation Loss: {val_loss / len(X_val)}')"
   ]
  },
  {
   "cell_type": "code",
   "execution_count": 7,
   "metadata": {},
   "outputs": [
    {
     "name": "stdout",
     "output_type": "stream",
     "text": [
      "353\n",
      "[ 7761469.61654129  7848261.71514956  7900573.51217809  7906964.34525139\n",
      "  7904057.67885873  7894185.77372887  7917790.75189138  7885618.9312974\n",
      "  7861762.41991741  7875395.81347946  7907239.8210868   7911201.10279339\n",
      "  7894418.14199366  7860171.45738668  7809415.33331596  7818758.11201856\n",
      "  7819779.55513394  7832560.02686424  7865716.91516767  7923441.53547464\n",
      "  7951045.14799938  7965905.15282463  7979688.98855064  7975989.0668503\n",
      "  7986383.69199265  7966642.16198225  8005361.12131176  8031968.86208859\n",
      "  8055097.10526672  8048793.84462592  8058666.99846375  8066571.211299\n",
      "  8103638.83578226  8125979.08994281  8142878.23487493  8161813.64245644\n",
      "  8189254.38002923  8229967.47168723  8224147.18957064  8215469.86363009\n",
      "  8204516.84886077  8254637.9234938   8285351.68751785  8303581.95514068\n",
      "  8318697.61934886  8333885.3828691   8335107.05359209  8349571.76090894\n",
      "  8349998.27611647  8363123.0654952   8362625.86255852  8375780.72951171\n",
      "  8395989.05913443  8412515.32900987  8421279.63017476  8468699.91235442\n",
      "  8475590.17432208  8477481.80401412  8475596.14640365  8485814.48655633\n",
      "  8469922.77749372  8462026.27407286  8458879.74716762  8439682.32808007\n",
      "  8425944.04304896  8408355.28557024  8445772.4397004   8480968.84815226\n",
      "  8523891.71857513  8510002.2855886   8505371.85928772  8497546.47792921\n",
      "  8515025.78344021  8523767.17352853  8537912.97168944  8553212.57601003\n",
      "  8572936.51552562  8567029.14960138  8534072.70607216  8530201.81996391\n",
      "  8534189.65028767  8599771.57544373  8640141.21811969  8693033.12143545\n",
      "  8730721.62523557  8774752.04533176  8852540.57947071  8885327.30729999\n",
      "  8916902.2454867   8976534.34864771  9020541.20616751  9037939.94286894\n",
      "  9102629.09612167  9139161.94784599  9180922.65119499  9182975.96142268\n",
      "  9180175.1637488   9173146.78382188  9144944.00864052  9183094.53438771\n",
      "  9219952.70168274  9225358.62992156  9223311.83469194  9234205.56297874\n",
      "  9188874.42351621  9153706.4638893   9130005.76954668  9162794.45187538\n",
      "  9231370.67014825  9260520.9432168   9269324.44295347  9284260.72754788\n",
      "  9313138.89086336  9353958.39415664  9390671.27699453  9384075.49294001\n",
      "  9396127.15355194  9379531.06461376  9374627.00839359  9356856.26530189\n",
      "  9322738.7405318   9303707.56247854  9308052.8490302   9297993.25766402\n",
      "  9339200.40334296  9396619.90457327  9455987.17306239  9506760.29041976\n",
      "  9536355.32069046  9620491.74320705  9655651.01616986  9659742.86929626\n",
      "  9676223.20843525  9658061.34829224  9605633.63858957  9585425.85188336\n",
      "  9572430.16804988  9572711.61596686  9526932.02746994  9501191.7043956\n",
      "  9488757.17906327  9496892.2399971   9502339.2127238   9515907.34772176\n",
      "  9516903.27376134  9540934.49567313  9589558.09799785  9617777.59500761\n",
      "  9612588.3990382   9565905.18030781  9575614.69911058  9616101.06883545\n",
      "  9692165.62589956  9728258.0637538   9770364.93066736  9812952.38727249\n",
      "  9868120.73950012  9884220.38558473  9895948.25079216  9912052.24020882\n",
      "  9914980.29751183  9935443.25497611  9949489.15649982  9959343.52542653\n",
      "  9939907.3316594   9925800.18915375  9937812.5426106   9979645.99677147\n",
      "  9960288.41731449  9967478.36919375  9963337.00208195  9973741.01967986\n",
      " 10037236.62528463 10060312.74847814 10064900.61012491 10017533.7509295\n",
      " 10002315.14975168 10005443.2174957  10036077.38995989 10022318.14835163\n",
      " 10030153.51937385 10042968.52059396 10044256.31854745 10023632.87496384\n",
      "  9993400.02638127 10031797.03622242 10072030.18968865 10145817.97209098\n",
      " 10205733.5862517  10243995.95279923 10248475.6654779  10272384.18825921\n",
      " 10256816.3831844  10222129.66474887 10191007.95326182 10195021.62641129\n",
      " 10208419.93712601 10236744.10843822 10255802.43231681 10255270.37414041\n",
      " 10227680.22594502 10208032.51190695 10201098.38228556 10220987.36841914\n",
      " 10297185.91727707 10371091.18681142 10424588.00769875 10480857.17743501\n",
      " 10508946.3744832  10500567.21828804 10478092.42941717 10479901.64438352\n",
      " 10519028.55117605 10541168.68631229 10581731.49868128 10576231.97163675\n",
      " 10569396.00131974 10556654.40241132 10541122.21265933 10541444.48789761\n",
      " 10529719.66302261 10542055.59471736 10580270.18461231 10631174.68776426\n",
      " 10624517.66272781 10625564.8400856  10605313.83722547 10573786.24135814\n",
      " 10566212.55609206 10585435.05792222 10626034.78861365 10634306.23017392\n",
      " 10644554.75648437 10639966.46050439 10635611.83578882 10633580.24222139\n",
      " 10691006.25844977 10689493.91022919 10736707.23263655 10768544.72524581\n",
      " 10764362.96514593 10764727.37070511 10774209.73324154 10777413.37496326\n",
      " 10795615.84526096 10783490.13083754 10802337.15161179 10793002.89669834\n",
      " 10788795.07660614 10821168.97072385 10846151.38235508 10851463.27745496\n",
      " 10840212.74444006 10830504.52863692 10824072.48820077 10865286.36604439\n",
      " 10888343.81291007 10921727.09739672 10924545.48556541 10915408.85226034\n",
      " 10901217.44911288 10871723.618479   10854553.12387691 10880357.72826563\n",
      " 10909197.01875924 10926658.95094202 10949011.90934883 10941219.97164713\n",
      " 10927780.83361112 10949863.20243107 10927974.98055385 10916942.48280798\n",
      " 10902842.72396682 10928018.41387437 10932778.27147041 10926987.74117838\n",
      " 10932594.5485246  10948445.97318243 10964822.94101857 10976835.29447542\n",
      " 10987607.62663137 10988938.85790538 11000449.9908434  11001482.40087222\n",
      " 11025446.7354704  11018676.78380059 11005491.29635643 11011125.90102779\n",
      " 11016329.21282636 11011826.04615461 11012001.51676952 11036441.44622742\n",
      " 11037218.90266477 11041429.76308941 11077143.67955529 11100813.53624033\n",
      " 11126160.78776395 11151886.34350931 11184461.33390104 11166598.07783663\n",
      " 11157368.06289243 11158423.05824792 11157709.88312494 11162907.11425864\n",
      " 11166165.91629743 11193446.8192507  11198307.44215035 11191451.92683911\n",
      " 11226205.09825503 11215376.73711562 11221988.59149873 11246779.46218645\n",
      " 11263675.02386963 11269633.20677888 11255914.3581587  11257246.02376592\n",
      " 11263491.73525703 11280199.66499555 11279285.82793176 11295195.45323908\n",
      " 11301112.37449383 11330892.43070995 11362830.68862283 11349547.9105407\n",
      " 11328353.31879222 11307711.63321399 11321321.02986645 11310682.03800451\n",
      " 11294559.58942663 11304890.63904607 11310047.91152489 11306435.99659025\n",
      " 11310127.82883465 11311728.3466959  11310060.50718784 11330736.93942248\n",
      " 11362833.72895527 11364045.08426463 11353733.57963943 11374588.08848822\n",
      " 11370024.11516774 11334910.88152468 11360689.86025429 11341107.07903039\n",
      " 11349817.19712794 11310275.50212443 11285983.6802895  11286183.90789711\n",
      " 11338927.16067338 11377137.19006967 11403807.4205364  11425707.80374336\n",
      " 11451743.90773046]\n"
     ]
    }
   ],
   "source": [
    "with torch.inference_mode():\n",
    "    model.eval()\n",
    "    predictions = []\n",
    "    model.hidden_cell = (torch.zeros(1, 1, model.hidden_layer_size).to(device),\n",
    "                        torch.zeros(1, 1, model.hidden_layer_size).to(device))\n",
    "    for seq in torch.cat((X_train, X_val), dim=0):\n",
    "        pred = model(seq)\n",
    "        predictions.append(pred.item())\n",
    "\n",
    "predicted_receipts = denormalize(np.array(predictions), data_min, data_max)\n",
    "print(len(predicted_receipts))\n",
    "print(predicted_receipts)"
   ]
  },
  {
   "cell_type": "code",
   "execution_count": 8,
   "metadata": {},
   "outputs": [
    {
     "data": {
      "text/plain": [
       "array([7761469.61654129, 7817344.14026896, 7862886.25708593,\n",
       "       7927356.50640322, 7974850.51664446, 8016865.57637676,\n",
       "       8076313.84800866, 8127575.59022191, 8184767.60943598,\n",
       "       8269726.98479316, 8371788.230106  , 8470365.36302985])"
      ]
     },
     "execution_count": 8,
     "metadata": {},
     "output_type": "execute_result"
    }
   ],
   "source": [
    "def predict_sequence(model, normalized_data, num_days):\n",
    "\n",
    "    future_predictions = []\n",
    "\n",
    "    current_seq = torch.tensor(normalized_data[:12], dtype=torch.float32).to(device=device)\n",
    "\n",
    "    model.hidden_cell = (torch.zeros(1, 1, model.hidden_layer_size).to(device),\n",
    "                        torch.zeros(1, 1, model.hidden_layer_size).to(device))\n",
    "\n",
    "    for _ in range(num_days):\n",
    "        with torch.inference_mode():\n",
    "            model.eval()\n",
    "            pred = model(current_seq)\n",
    "            future_predictions.append(pred.item())\n",
    "\n",
    "            current_seq = torch.cat((current_seq[1:], pred.view(1)), dim=0)\n",
    "    \n",
    "    return future_predictions\n",
    "\n",
    "\n",
    "\n",
    "predicted_first_12_days = denormalize(np.array(predict_sequence(model, normalized_data, 12)), data_min, data_max)\n",
    "predicted_first_12_days"
   ]
  },
  {
   "cell_type": "code",
   "execution_count": 9,
   "metadata": {},
   "outputs": [],
   "source": [
    "torch.save(model.state_dict(), 'timeseries_predictor2.pth')\n"
   ]
  },
  {
   "cell_type": "code",
   "execution_count": 10,
   "metadata": {},
   "outputs": [],
   "source": [
    "predicted_receipts_full = np.concatenate((predicted_first_12_days, predicted_receipts))\n"
   ]
  },
  {
   "cell_type": "code",
   "execution_count": 11,
   "metadata": {},
   "outputs": [
    {
     "name": "stdout",
     "output_type": "stream",
     "text": [
      "{'January': 236736687, 'February': 220033460, 'March': 248608625, 'April': 250644830, 'May': 263151748, 'June': 260656840, 'July': 274776003, 'August': 283943231, 'September': 281146154, 'October': 295965185, 'November': 296085162, 'December': 309948684}\n",
      "{'January': 246336651, 'February': 227444482, 'March': 262312314, 'April': 269551929, 'May': 292595181, 'June': 292207263, 'July': 313326552, 'August': 325315891, 'September': 323547828, 'October': 339684427, 'November': 335978488, 'December': 351550550}\n"
     ]
    }
   ],
   "source": [
    "months_2022 = {}\n",
    "months_2022[\"January\"] = int(predicted_receipts_full[0:31].sum())\n",
    "months_2022[\"February\"] = int(predicted_receipts_full[31:59].sum())\n",
    "months_2022[\"March\"] = int(predicted_receipts_full[59:90].sum())\n",
    "months_2022[\"April\"] = int(predicted_receipts_full[90:120].sum())\n",
    "months_2022[\"May\"] = int(predicted_receipts_full[120:151].sum())\n",
    "months_2022[\"June\"] = int(predicted_receipts_full[151:181].sum())\n",
    "months_2022[\"July\"] = int(predicted_receipts_full[181:212].sum())\n",
    "months_2022[\"August\"] = int(predicted_receipts_full[212:243].sum())\n",
    "months_2022[\"September\"] = int(predicted_receipts_full[243:273].sum())\n",
    "months_2022[\"October\"] = int(predicted_receipts_full[273:304].sum())\n",
    "months_2022[\"November\"] = int(predicted_receipts_full[304:334].sum())\n",
    "months_2022[\"December\"] = int(predicted_receipts_full[334:365].sum())\n",
    "\n",
    "months_2021 = {}\n",
    "months_2021[\"January\"] = int(data[0:31].sum())\n",
    "months_2021[\"February\"] = int(data[31:59].sum())\n",
    "months_2021[\"March\"] = int(data[59:90].sum())\n",
    "months_2021[\"April\"] = int(data[90:120].sum())\n",
    "months_2021[\"May\"] = int(data[120:151].sum())\n",
    "months_2021[\"June\"] = int(data[151:181].sum())\n",
    "months_2021[\"July\"] = int(data[181:212].sum())\n",
    "months_2021[\"August\"] = int(data[212:243].sum())\n",
    "months_2021[\"September\"] = int(data[243:273].sum())\n",
    "months_2021[\"October\"] = int(data[273:304].sum())\n",
    "months_2021[\"November\"] = int(data[304:334].sum())\n",
    "months_2021[\"December\"] = int(data[334:365].sum())\n",
    "print(months_2021)\n",
    "print(months_2022)"
   ]
  },
  {
   "cell_type": "code",
   "execution_count": 12,
   "metadata": {},
   "outputs": [
    {
     "data": {
      "image/png": "[encoded data removed]",
      "text/plain": [
       "<Figure size 1200x600 with 1 Axes>"
      ]
     },
     "metadata": {},
     "output_type": "display_data"
    }
   ],
   "source": [
    "import matplotlib.pyplot as plt\n",
    "\n",
    "# Extract months and their corresponding sums for 2021 and 2022\n",
    "months = list(months_2021.keys())\n",
    "amounts_2021 = list(months_2021.values())\n",
    "amounts_2022 = list(months_2022.values())\n",
    "\n",
    "# Set the figure size\n",
    "plt.figure(figsize=(12, 6))\n",
    "\n",
    "# Define bar width\n",
    "bar_width = 0.35\n",
    "\n",
    "# Define the positions of the bars on the x-axis\n",
    "x = range(len(months))\n",
    "\n",
    "# Create bars for 2021 and 2022\n",
    "bars_2021 = plt.bar(x, amounts_2021, width=bar_width, label='2021', color='b', alpha=0.7)\n",
    "bars_2022 = plt.bar([p + bar_width for p in x], amounts_2022, width=bar_width, label='2022', color='r', alpha=0.7)\n",
    "\n",
    "# Adding labels and title\n",
    "plt.xlabel('Months')\n",
    "plt.ylabel('Number of Receipts (in tens of millions)')\n",
    "plt.title('Comparison of Receipts in 2021 and 2022')\n",
    "plt.xticks([p + bar_width / 2 for p in x], months)  # Set x-ticks to be in the center of the grouped bars\n",
    "plt.legend()\n",
    "\n",
    "# Show the plot\n",
    "plt.tight_layout()\n",
    "plt.show()"
   ]
  },
  {
   "cell_type": "code",
   "execution_count": 13,
   "metadata": {},
   "outputs": [
    {
     "name": "stdout",
     "output_type": "stream",
     "text": [
      "2.2.2\n"
     ]
    }
   ],
   "source": [
    "print(torch.__version__)"
   ]
  }
 ],
 "metadata": {
  "kernelspec": {
   "display_name": "Python 3",
   "language": "python",
   "name": "python3"
  },
  "language_info": {
   "codemirror_mode": {
    "name": "ipython",
    "version": 3
   },
   "file_extension": ".py",
   "mimetype": "text/x-python",
   "name": "python",
   "nbconvert_exporter": "python",
   "pygments_lexer": "ipython3",
   "version": "3.8.19"
  }
 },
 "nbformat": 4,
 "nbformat_minor": 2
}
